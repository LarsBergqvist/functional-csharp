{
 "cells": [
  {
   "cell_type": "code",
   "execution_count": null,
   "metadata": {
    "dotnet_interactive": {
     "language": "csharp"
    },
    "vscode": {
     "languageId": "dotnet-interactive.csharp"
    }
   },
   "outputs": [],
   "source": [
    "// Functional example\n",
    "\n",
    "var triple = (int x) => x*3;\n",
    "var range = Enumerable.Range(1,3);\n",
    "var tripled = range.Select(triple);"
   ]
  },
  {
   "cell_type": "code",
   "execution_count": null,
   "metadata": {
    "dotnet_interactive": {
     "language": "csharp"
    },
    "vscode": {
     "languageId": "dotnet-interactive.csharp"
    }
   },
   "outputs": [
    {
     "name": "stdout",
     "output_type": "stream",
     "text": [
      "0\n",
      "0\n"
     ]
    }
   ],
   "source": [
    "// Immutable function example\n",
    "\n",
    "using static System.Linq.Enumerable;\n",
    "using static System.Console;\n",
    "\n",
    "var nums = Range(-10000, 0).Reverse().ToArray();\n",
    "\n",
    "var task1 = () => WriteLine(nums.Sum());\n",
    "var task2 = () => WriteLine(nums.OrderBy(x => x).Sum());\n",
    "\n",
    "Parallel.Invoke(task1,task2);\n"
   ]
  },
  {
   "cell_type": "code",
   "execution_count": null,
   "metadata": {
    "dotnet_interactive": {
     "language": "csharp"
    },
    "vscode": {
     "languageId": "dotnet-interactive.csharp"
    }
   },
   "outputs": [
    {
     "name": "stdout",
     "output_type": "stream",
     "text": [
      "2.4200000000000004\n"
     ]
    }
   ],
   "source": [
    "// Functions within functions\n",
    "using static System.Console;\n",
    "\n",
    "var method = (double val) => \n",
    "{\n",
    "    // With lambda expression\n",
    "    var square1 = (double val1) => val1*val1;\n",
    "\n",
    "    // With local function\n",
    "    double square2(double val1) => val1*val1;\n",
    "\n",
    "    return square1(val) + square2(val);\n",
    "};\n",
    "\n",
    "WriteLine(method(1.1));"
   ]
  },
  {
   "cell_type": "code",
   "execution_count": null,
   "metadata": {
    "dotnet_interactive": {
     "language": "csharp"
    },
    "vscode": {
     "languageId": "dotnet-interactive.csharp"
    }
   },
   "outputs": [
    {
     "name": "stdout",
     "output_type": "stream",
     "text": [
      "EUR\n",
      "USD\n",
      "(EUR, USD)\n"
     ]
    }
   ],
   "source": [
    "// Tuple example\n",
    "\n",
    "using static System.Console;\n",
    "\n",
    "public static (string, string) SplitAt(this string s, int at)\n",
    "   => (s.Substring(0, at), s.Substring(at));\n",
    "\n",
    "public static (string Base, string Quote)\n",
    "   AsPair(this string ccyPair)\n",
    "   => ccyPair.SplitAt(3);\n",
    " \n",
    "var pair = \"EURUSD\".AsPair();\n",
    "WriteLine(pair.Base);\n",
    "WriteLine(pair.Quote);\n",
    "WriteLine(pair);\n"
   ]
  },
  {
   "cell_type": "code",
   "execution_count": null,
   "metadata": {
    "dotnet_interactive": {
     "language": "csharp"
    },
    "vscode": {
     "languageId": "dotnet-interactive.csharp"
    }
   },
   "outputs": [
    {
     "data": {
      "text/html": [
       "<table><thead><tr><th><i>index</i></th><th>value</th></tr></thead><tbody><tr><td>0</td><td>In Japanese, 1 is: ichi</td></tr><tr><td>1</td><td>In Japanese, 2 is: ni</td></tr><tr><td>2</td><td>In Japanese, 3 is: san</td></tr></tbody></table>"
      ]
     },
     "metadata": {},
     "output_type": "display_data"
    }
   ],
   "source": [
    "// zip combines lists with a function\n",
    "using static System.Linq.Enumerable;\n",
    "\n",
    "Enumerable.Zip(\n",
    "    new[] {1, 2, 3},\n",
    "    new[] {\"ichi\", \"ni\", \"san\", \"bah\"},\n",
    "    (number, name) => $\"In Japanese, {number} is: {name}\")\n"
   ]
  },
  {
   "cell_type": "code",
   "execution_count": null,
   "metadata": {
    "dotnet_interactive": {
     "language": "csharp"
    },
    "vscode": {
     "languageId": "dotnet-interactive.csharp"
    }
   },
   "outputs": [],
   "source": [
    "using static System.Linq.Enumerable;\n",
    " \n",
    "static class StringExt\n",
    "{\n",
    "   public static string ToSentenceCase(string s)\n",
    "      => s == string.Empty\n",
    "         ? string.Empty\n",
    "         : char.ToUpperInvariant(s[0]) + s.ToLower()[1..];\n",
    "}\n",
    "\n",
    "static class ListFormatter\n",
    "{\n",
    "   public static List<string> Format(List<string> list)\n",
    "      => list.AsParallel()\n",
    "         .Select(StringExt.ToSentenceCase)\n",
    "         .Zip(Range(1, list.Count), (s, i) => $\"{i}. {s}\")\n",
    "         .ToList();\n",
    "}\n",
    "\n",
    "var shoppingList = new List<string>\n",
    "{\n",
    "   \"coffee beans\",\n",
    "   \"BANANAS\",\n",
    "   \"Dates\"\n",
    "};\n",
    "\n",
    "var formatted = ListFormatter.Format(shoppingList);"
   ]
  }
 ],
 "metadata": {
  "kernelspec": {
   "display_name": ".NET (C#)",
   "language": "C#",
   "name": ".net-csharp"
  },
  "language_info": {
   "name": "C#"
  }
 },
 "nbformat": 4,
 "nbformat_minor": 2
}
