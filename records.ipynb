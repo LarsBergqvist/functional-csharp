{
 "cells": [
  {
   "cell_type": "code",
   "execution_count": null,
   "metadata": {
    "dotnet_interactive": {
     "language": "csharp"
    },
    "vscode": {
     "languageId": "dotnet-interactive.csharp"
    }
   },
   "outputs": [
    {
     "name": "stdout",
     "output_type": "stream",
     "text": [
      "Order { Product = Product { Name = apa, Price = 10.3, IsFood = False }, Quantity = 55, NetPrice = 566.5 }\n",
      "order1 == order2: True\n",
      "Point1 { X = 100, Y = 0, Z = 0 }\n",
      "Point2 { X = 101, Y = 102, Z = 103 }\n"
     ]
    }
   ],
   "source": [
    "using static System.Console;\n",
    "\n",
    "//\n",
    "// Records as reference types (record class), immutable\n",
    "//\n",
    "record Product(string Name, decimal Price, bool IsFood);\n",
    "\n",
    "record Order(Product Product, int Quantity)\n",
    "{\n",
    "   public decimal NetPrice => Product.Price * Quantity;\n",
    "}\n",
    "\n",
    "var prod1 = new Product(\"apa\", 10.3M, false);\n",
    "var order1 = new Order(prod1, 55);\n",
    "WriteLine(order1);\n",
    "var order2 = new Order(prod1, 55);\n",
    "WriteLine($\"order1 == order2: {order1==order2}\");\n",
    "\n",
    "//\n",
    "// Record as value type (record struct), mutable\n",
    "//\n",
    "record struct Point1(double X, double Y, double Z);\n",
    "Point1 p1;\n",
    "p1.X = 100;\n",
    "WriteLine(p1);\n",
    "\n",
    "//\n",
    "// Immutable record with readonly record struct\n",
    "//\n",
    "readonly record struct Point2(double X, double Y, double Z);\n",
    "var p2 = new Point2(101,102,103);\n",
    "WriteLine(p2);"
   ]
  },
  {
   "cell_type": "code",
   "execution_count": null,
   "metadata": {
    "dotnet_interactive": {
     "language": "csharp"
    },
    "vscode": {
     "languageId": "dotnet-interactive.csharp"
    }
   },
   "outputs": [
    {
     "name": "stdout",
     "output_type": "stream",
     "text": [
      "prod1 valid = False\n",
      "prod2 valid = True\n"
     ]
    }
   ],
   "source": [
    "using static System.Console;\n",
    "\n",
    "record Product(string Name);\n",
    "\n",
    "static bool IsValid(Product product) =>\n",
    "    product switch\n",
    "    {\n",
    "        Product(\"apa\") => true,\n",
    "        _ => false\n",
    "    };\n",
    "\n",
    "var prod1 = new Product(\"bil\");\n",
    "WriteLine($\"prod1 valid = {IsValid(prod1)}\");\n",
    "var prod2 = new Product(\"apa\");\n",
    "WriteLine($\"prod2 valid = {IsValid(prod2)}\");\n"
   ]
  }
 ],
 "metadata": {
  "kernelspec": {
   "display_name": ".NET (C#)",
   "language": "C#",
   "name": ".net-csharp"
  },
  "language_info": {
   "file_extension": ".cs",
   "mimetype": "text/x-csharp",
   "name": "C#",
   "pygments_lexer": "csharp",
   "version": "9.0"
  },
  "orig_nbformat": 4,
  "vscode": {
   "interpreter": {
    "hash": "31f2aee4e71d21fbe5cf8b01ff0e069b9275f58929596ceb00d14d90e3e16cd6"
   }
  }
 },
 "nbformat": 4,
 "nbformat_minor": 2
}
